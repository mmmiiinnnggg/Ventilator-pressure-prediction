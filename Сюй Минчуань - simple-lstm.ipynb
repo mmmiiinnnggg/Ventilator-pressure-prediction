{
 "cells": [
  {
   "cell_type": "markdown",
   "id": "7a93c02e",
   "metadata": {},
   "source": [
    "### Backbone framework from https://www.kaggle.com/vothaibk/simple-lstm"
   ]
  },
  {
   "cell_type": "code",
   "execution_count": 1,
   "id": "e72f2534",
   "metadata": {
    "execution": {
     "iopub.execute_input": "2021-11-03T16:16:26.544759Z",
     "iopub.status.busy": "2021-11-03T16:16:26.543258Z",
     "iopub.status.idle": "2021-11-03T16:16:26.627525Z",
     "shell.execute_reply": "2021-11-03T16:16:26.626925Z",
     "shell.execute_reply.started": "2021-11-03T11:14:41.038796Z"
    },
    "papermill": {
     "duration": 0.119871,
     "end_time": "2021-11-03T16:16:26.627675",
     "exception": false,
     "start_time": "2021-11-03T16:16:26.507804",
     "status": "completed"
    },
    "tags": []
   },
   "outputs": [],
   "source": [
    "%config Completer.use_jedi = False"
   ]
  },
  {
   "cell_type": "code",
   "execution_count": 2,
   "id": "75cb2dc3",
   "metadata": {
    "_kg_hide-input": true,
    "execution": {
     "iopub.execute_input": "2021-11-03T16:16:26.690761Z",
     "iopub.status.busy": "2021-11-03T16:16:26.690177Z",
     "iopub.status.idle": "2021-11-03T16:16:27.379566Z",
     "shell.execute_reply": "2021-11-03T16:16:27.379088Z",
     "shell.execute_reply.started": "2021-11-03T11:14:41.155401Z"
    },
    "papermill": {
     "duration": 0.722503,
     "end_time": "2021-11-03T16:16:27.379703",
     "exception": false,
     "start_time": "2021-11-03T16:16:26.657200",
     "status": "completed"
    },
    "tags": []
   },
   "outputs": [],
   "source": [
    "import os\n",
    "import warnings\n",
    "import numpy as np\n",
    "import pandas as pd\n",
    "import seaborn as sns\n",
    "import matplotlib.pyplot as plt\n",
    "\n",
    "from tqdm.notebook import tqdm\n",
    "from collections import Counter\n",
    "\n",
    "warnings.filterwarnings(\"ignore\")\n",
    "NUM_WORKERS = 4"
   ]
  },
  {
   "cell_type": "markdown",
   "id": "2322f825",
   "metadata": {
    "papermill": {
     "duration": 0.02865,
     "end_time": "2021-11-03T16:16:27.437547",
     "exception": false,
     "start_time": "2021-11-03T16:16:27.408897",
     "status": "completed"
    },
    "tags": []
   },
   "source": [
    "## Data"
   ]
  },
  {
   "cell_type": "markdown",
   "id": "d93039b1",
   "metadata": {
    "papermill": {
     "duration": 0.028486,
     "end_time": "2021-11-03T16:16:27.495053",
     "exception": false,
     "start_time": "2021-11-03T16:16:27.466567",
     "status": "completed"
    },
    "tags": []
   },
   "source": [
    "### Load"
   ]
  },
  {
   "cell_type": "code",
   "execution_count": 3,
   "id": "9e763c03",
   "metadata": {
    "execution": {
     "iopub.execute_input": "2021-11-03T16:16:27.557832Z",
     "iopub.status.busy": "2021-11-03T16:16:27.556247Z",
     "iopub.status.idle": "2021-11-03T16:16:41.212387Z",
     "shell.execute_reply": "2021-11-03T16:16:41.212858Z",
     "shell.execute_reply.started": "2021-11-03T11:14:41.870360Z"
    },
    "papermill": {
     "duration": 13.689162,
     "end_time": "2021-11-03T16:16:41.213008",
     "exception": false,
     "start_time": "2021-11-03T16:16:27.523846",
     "status": "completed"
    },
    "tags": []
   },
   "outputs": [
    {
     "data": {
      "text/plain": [
       "(6036000, 8)"
      ]
     },
     "execution_count": 3,
     "metadata": {},
     "output_type": "execute_result"
    }
   ],
   "source": [
    "DATA_PATH = \"/kaggle/input/ventilator-pressure-prediction/\"\n",
    "\n",
    "sub = pd.read_csv(DATA_PATH + 'sample_submission.csv')\n",
    "df_train = pd.read_csv(DATA_PATH + 'train.csv')\n",
    "df_test = pd.read_csv(DATA_PATH + 'test.csv')\n",
    "\n",
    "\n",
    "df = df_train[df_train['breath_id'] < 50].reset_index(drop=True)\n",
    "df_train.shape"
   ]
  },
  {
   "cell_type": "code",
   "execution_count": 4,
   "id": "bae16b8e",
   "metadata": {
    "execution": {
     "iopub.execute_input": "2021-11-03T16:16:41.276836Z",
     "iopub.status.busy": "2021-11-03T16:16:41.276060Z",
     "iopub.status.idle": "2021-11-03T16:16:41.290251Z",
     "shell.execute_reply": "2021-11-03T16:16:41.290654Z",
     "shell.execute_reply.started": "2021-11-03T11:14:54.224527Z"
    },
    "papermill": {
     "duration": 0.047952,
     "end_time": "2021-11-03T16:16:41.290782",
     "exception": false,
     "start_time": "2021-11-03T16:16:41.242830",
     "status": "completed"
    },
    "tags": []
   },
   "outputs": [
    {
     "data": {
      "text/html": [
       "<div>\n",
       "<style scoped>\n",
       "    .dataframe tbody tr th:only-of-type {\n",
       "        vertical-align: middle;\n",
       "    }\n",
       "\n",
       "    .dataframe tbody tr th {\n",
       "        vertical-align: top;\n",
       "    }\n",
       "\n",
       "    .dataframe thead th {\n",
       "        text-align: right;\n",
       "    }\n",
       "</style>\n",
       "<table border=\"1\" class=\"dataframe\">\n",
       "  <thead>\n",
       "    <tr style=\"text-align: right;\">\n",
       "      <th></th>\n",
       "      <th>id</th>\n",
       "      <th>breath_id</th>\n",
       "      <th>R</th>\n",
       "      <th>C</th>\n",
       "      <th>time_step</th>\n",
       "      <th>u_in</th>\n",
       "      <th>u_out</th>\n",
       "      <th>pressure</th>\n",
       "    </tr>\n",
       "  </thead>\n",
       "  <tbody>\n",
       "    <tr>\n",
       "      <th>0</th>\n",
       "      <td>1</td>\n",
       "      <td>1</td>\n",
       "      <td>20</td>\n",
       "      <td>50</td>\n",
       "      <td>0.000000</td>\n",
       "      <td>0.083334</td>\n",
       "      <td>0</td>\n",
       "      <td>5.837492</td>\n",
       "    </tr>\n",
       "    <tr>\n",
       "      <th>1</th>\n",
       "      <td>2</td>\n",
       "      <td>1</td>\n",
       "      <td>20</td>\n",
       "      <td>50</td>\n",
       "      <td>0.033652</td>\n",
       "      <td>18.383041</td>\n",
       "      <td>0</td>\n",
       "      <td>5.907794</td>\n",
       "    </tr>\n",
       "    <tr>\n",
       "      <th>2</th>\n",
       "      <td>3</td>\n",
       "      <td>1</td>\n",
       "      <td>20</td>\n",
       "      <td>50</td>\n",
       "      <td>0.067514</td>\n",
       "      <td>22.509278</td>\n",
       "      <td>0</td>\n",
       "      <td>7.876254</td>\n",
       "    </tr>\n",
       "    <tr>\n",
       "      <th>3</th>\n",
       "      <td>4</td>\n",
       "      <td>1</td>\n",
       "      <td>20</td>\n",
       "      <td>50</td>\n",
       "      <td>0.101542</td>\n",
       "      <td>22.808822</td>\n",
       "      <td>0</td>\n",
       "      <td>11.742872</td>\n",
       "    </tr>\n",
       "    <tr>\n",
       "      <th>4</th>\n",
       "      <td>5</td>\n",
       "      <td>1</td>\n",
       "      <td>20</td>\n",
       "      <td>50</td>\n",
       "      <td>0.135756</td>\n",
       "      <td>25.355850</td>\n",
       "      <td>0</td>\n",
       "      <td>12.234987</td>\n",
       "    </tr>\n",
       "  </tbody>\n",
       "</table>\n",
       "</div>"
      ],
      "text/plain": [
       "   id  breath_id   R   C  time_step       u_in  u_out   pressure\n",
       "0   1          1  20  50   0.000000   0.083334      0   5.837492\n",
       "1   2          1  20  50   0.033652  18.383041      0   5.907794\n",
       "2   3          1  20  50   0.067514  22.509278      0   7.876254\n",
       "3   4          1  20  50   0.101542  22.808822      0  11.742872\n",
       "4   5          1  20  50   0.135756  25.355850      0  12.234987"
      ]
     },
     "execution_count": 4,
     "metadata": {},
     "output_type": "execute_result"
    }
   ],
   "source": [
    "df_train.head()"
   ]
  },
  {
   "cell_type": "code",
   "execution_count": 5,
   "id": "c50e9e15",
   "metadata": {
    "execution": {
     "iopub.execute_input": "2021-11-03T16:16:41.361378Z",
     "iopub.status.busy": "2021-11-03T16:16:41.360422Z",
     "iopub.status.idle": "2021-11-03T16:16:41.522327Z",
     "shell.execute_reply": "2021-11-03T16:16:41.521862Z",
     "shell.execute_reply.started": "2021-11-03T11:14:54.245504Z"
    },
    "papermill": {
     "duration": 0.201422,
     "end_time": "2021-11-03T16:16:41.522474",
     "exception": false,
     "start_time": "2021-11-03T16:16:41.321052",
     "status": "completed"
    },
    "tags": []
   },
   "outputs": [],
   "source": [
    "df_train['breath_id'] = (df_train['id']-1)//80 +1"
   ]
  },
  {
   "cell_type": "code",
   "execution_count": 6,
   "id": "3545044f",
   "metadata": {
    "execution": {
     "iopub.execute_input": "2021-11-03T16:16:41.587283Z",
     "iopub.status.busy": "2021-11-03T16:16:41.586557Z",
     "iopub.status.idle": "2021-11-03T16:16:41.596732Z",
     "shell.execute_reply": "2021-11-03T16:16:41.596289Z",
     "shell.execute_reply.started": "2021-11-03T11:14:54.422521Z"
    },
    "papermill": {
     "duration": 0.043791,
     "end_time": "2021-11-03T16:16:41.596840",
     "exception": false,
     "start_time": "2021-11-03T16:16:41.553049",
     "status": "completed"
    },
    "tags": []
   },
   "outputs": [
    {
     "data": {
      "text/plain": [
       "75450"
      ]
     },
     "execution_count": 6,
     "metadata": {},
     "output_type": "execute_result"
    }
   ],
   "source": [
    "df_train.breath_id.max()"
   ]
  },
  {
   "cell_type": "code",
   "execution_count": 7,
   "id": "bf376f4c",
   "metadata": {
    "execution": {
     "iopub.execute_input": "2021-11-03T16:16:41.721247Z",
     "iopub.status.busy": "2021-11-03T16:16:41.720090Z",
     "iopub.status.idle": "2021-11-03T16:16:41.962880Z",
     "shell.execute_reply": "2021-11-03T16:16:41.963340Z",
     "shell.execute_reply.started": "2021-11-03T11:14:54.438499Z"
    },
    "papermill": {
     "duration": 0.336888,
     "end_time": "2021-11-03T16:16:41.963512",
     "exception": false,
     "start_time": "2021-11-03T16:16:41.626624",
     "status": "completed"
    },
    "tags": []
   },
   "outputs": [
    {
     "data": {
      "text/plain": [
       "Int64Index([  360,   545,  2391,  4818,  6761,  8201,  9988, 11565, 12046,\n",
       "            13314, 14265, 16390, 16717, 18125, 21941, 24342, 24550, 25957,\n",
       "            26247, 26644, 27107, 27444, 27576, 27664, 27666, 27944, 28452,\n",
       "            29651, 30028, 30353, 31358, 31891, 32576, 33732, 34089, 34295,\n",
       "            35324, 35482, 36614, 39421, 40300, 40730, 42426, 42841, 43157,\n",
       "            44963, 46669, 50188, 51191, 51870, 54341, 54682, 54871, 55769,\n",
       "            56412, 58489, 58815, 58837, 61173, 64023, 65081, 65697, 65897,\n",
       "            66321, 66870, 67228, 67980, 68173, 70860, 71754, 72270, 72966,\n",
       "            74749],\n",
       "           dtype='int64', name='breath_id')"
      ]
     },
     "execution_count": 7,
     "metadata": {},
     "output_type": "execute_result"
    }
   ],
   "source": [
    "df1_train = df_train.groupby('breath_id').min()\n",
    "error_breath_ids = df1_train[df1_train['pressure'] <= 0].index\n",
    "error_breath_ids"
   ]
  },
  {
   "cell_type": "code",
   "execution_count": 8,
   "id": "50f05ab4",
   "metadata": {
    "execution": {
     "iopub.execute_input": "2021-11-03T16:16:42.067429Z",
     "iopub.status.busy": "2021-11-03T16:16:42.066593Z",
     "iopub.status.idle": "2021-11-03T16:16:50.656169Z",
     "shell.execute_reply": "2021-11-03T16:16:50.655678Z",
     "shell.execute_reply.started": "2021-11-03T11:14:54.751143Z"
    },
    "papermill": {
     "duration": 8.660998,
     "end_time": "2021-11-03T16:16:50.656300",
     "exception": false,
     "start_time": "2021-11-03T16:16:41.995302",
     "status": "completed"
    },
    "tags": []
   },
   "outputs": [],
   "source": [
    "# Norm pressure --> 0\n",
    "for i in error_breath_ids:\n",
    "    min_pressure = df1_train[df1_train.index == i]['pressure'].values\n",
    "    df_train['pressure'][df_train['breath_id']== i]= df_train['pressure'][df_train['breath_id'] ==i] - min_pressure +0.001"
   ]
  },
  {
   "cell_type": "code",
   "execution_count": 9,
   "id": "3a794ddd",
   "metadata": {
    "execution": {
     "iopub.execute_input": "2021-11-03T16:16:50.729107Z",
     "iopub.status.busy": "2021-11-03T16:16:50.728202Z",
     "iopub.status.idle": "2021-11-03T16:16:50.732944Z",
     "shell.execute_reply": "2021-11-03T16:16:50.732476Z",
     "shell.execute_reply.started": "2021-11-03T11:15:03.591241Z"
    },
    "papermill": {
     "duration": 0.045821,
     "end_time": "2021-11-03T16:16:50.733063",
     "exception": false,
     "start_time": "2021-11-03T16:16:50.687242",
     "status": "completed"
    },
    "tags": []
   },
   "outputs": [
    {
     "data": {
      "text/html": [
       "<div>\n",
       "<style scoped>\n",
       "    .dataframe tbody tr th:only-of-type {\n",
       "        vertical-align: middle;\n",
       "    }\n",
       "\n",
       "    .dataframe tbody tr th {\n",
       "        vertical-align: top;\n",
       "    }\n",
       "\n",
       "    .dataframe thead th {\n",
       "        text-align: right;\n",
       "    }\n",
       "</style>\n",
       "<table border=\"1\" class=\"dataframe\">\n",
       "  <thead>\n",
       "    <tr style=\"text-align: right;\">\n",
       "      <th></th>\n",
       "      <th>id</th>\n",
       "      <th>breath_id</th>\n",
       "      <th>R</th>\n",
       "      <th>C</th>\n",
       "      <th>time_step</th>\n",
       "      <th>u_in</th>\n",
       "      <th>u_out</th>\n",
       "      <th>pressure</th>\n",
       "    </tr>\n",
       "  </thead>\n",
       "  <tbody>\n",
       "    <tr>\n",
       "      <th>0</th>\n",
       "      <td>1</td>\n",
       "      <td>1</td>\n",
       "      <td>20</td>\n",
       "      <td>50</td>\n",
       "      <td>0.000000</td>\n",
       "      <td>0.083334</td>\n",
       "      <td>0</td>\n",
       "      <td>5.837492</td>\n",
       "    </tr>\n",
       "    <tr>\n",
       "      <th>1</th>\n",
       "      <td>2</td>\n",
       "      <td>1</td>\n",
       "      <td>20</td>\n",
       "      <td>50</td>\n",
       "      <td>0.033652</td>\n",
       "      <td>18.383041</td>\n",
       "      <td>0</td>\n",
       "      <td>5.907794</td>\n",
       "    </tr>\n",
       "    <tr>\n",
       "      <th>2</th>\n",
       "      <td>3</td>\n",
       "      <td>1</td>\n",
       "      <td>20</td>\n",
       "      <td>50</td>\n",
       "      <td>0.067514</td>\n",
       "      <td>22.509278</td>\n",
       "      <td>0</td>\n",
       "      <td>7.876254</td>\n",
       "    </tr>\n",
       "    <tr>\n",
       "      <th>3</th>\n",
       "      <td>4</td>\n",
       "      <td>1</td>\n",
       "      <td>20</td>\n",
       "      <td>50</td>\n",
       "      <td>0.101542</td>\n",
       "      <td>22.808822</td>\n",
       "      <td>0</td>\n",
       "      <td>11.742872</td>\n",
       "    </tr>\n",
       "    <tr>\n",
       "      <th>4</th>\n",
       "      <td>5</td>\n",
       "      <td>1</td>\n",
       "      <td>20</td>\n",
       "      <td>50</td>\n",
       "      <td>0.135756</td>\n",
       "      <td>25.355850</td>\n",
       "      <td>0</td>\n",
       "      <td>12.234987</td>\n",
       "    </tr>\n",
       "  </tbody>\n",
       "</table>\n",
       "</div>"
      ],
      "text/plain": [
       "   id  breath_id   R   C  time_step       u_in  u_out   pressure\n",
       "0   1          1  20  50   0.000000   0.083334      0   5.837492\n",
       "1   2          1  20  50   0.033652  18.383041      0   5.907794\n",
       "2   3          1  20  50   0.067514  22.509278      0   7.876254\n",
       "3   4          1  20  50   0.101542  22.808822      0  11.742872\n",
       "4   5          1  20  50   0.135756  25.355850      0  12.234987"
      ]
     },
     "execution_count": 9,
     "metadata": {},
     "output_type": "execute_result"
    }
   ],
   "source": [
    "df.head()"
   ]
  },
  {
   "cell_type": "markdown",
   "id": "0d3e4622",
   "metadata": {
    "papermill": {
     "duration": 0.034701,
     "end_time": "2021-11-03T16:17:36.415671",
     "exception": false,
     "start_time": "2021-11-03T16:17:36.380970",
     "status": "completed"
    },
    "tags": []
   },
   "source": [
    "### Dataset"
   ]
  },
  {
   "cell_type": "code",
   "execution_count": 19,
   "id": "707913b7",
   "metadata": {
    "_kg_hide-input": true,
    "execution": {
     "iopub.execute_input": "2021-11-03T16:17:36.493400Z",
     "iopub.status.busy": "2021-11-03T16:17:36.492243Z",
     "iopub.status.idle": "2021-11-03T16:17:40.842947Z",
     "shell.execute_reply": "2021-11-03T16:17:40.842254Z",
     "shell.execute_reply.started": "2021-11-03T11:15:50.132261Z"
    },
    "papermill": {
     "duration": 4.392618,
     "end_time": "2021-11-03T16:17:40.843099",
     "exception": false,
     "start_time": "2021-11-03T16:17:36.450481",
     "status": "completed"
    },
    "tags": []
   },
   "outputs": [],
   "source": [
    "import torch\n",
    "from torch.utils.data import Dataset\n",
    "\n",
    "class VentilatorDataset(Dataset):\n",
    "    def __init__(self, df):\n",
    "        if \"pressure\" not in df.columns:\n",
    "            df['pressure'] = 0\n",
    "\n",
    "        self.df = df.groupby('breath_id').agg(list).reset_index()\n",
    "        self.prepare_data()\n",
    "                \n",
    "    def __len__(self):\n",
    "        return self.df.shape[0]\n",
    "    \n",
    "    def prepare_data(self):\n",
    "        self.pressures = np.array(self.df['pressure'].values.tolist())\n",
    "        \n",
    "        rs = np.array(self.df['R'].values.tolist())\n",
    "        cs = np.array(self.df['C'].values.tolist())\n",
    "        u_ins = np.array(self.df['u_in'].values.tolist())\n",
    "        \n",
    "        self.u_outs = np.array(self.df['u_out'].values.tolist())\n",
    "        \n",
    "        self.inputs = np.concatenate([\n",
    "            rs[:, None], \n",
    "            cs[:, None], \n",
    "            u_ins[:, None], \n",
    "#             np.cumsum(u_ins, 1)[:, None], FIXME\n",
    "            self.u_outs[:, None]\n",
    "        ], 1).transpose(0, 2, 1)\n",
    "\n",
    "    def __getitem__(self, idx):\n",
    "        data = {\n",
    "            \"input\": torch.tensor(self.inputs[idx], dtype=torch.float),\n",
    "            \"u_out\": torch.tensor(self.u_outs[idx], dtype=torch.float),\n",
    "            \"p\": torch.tensor(self.pressures[idx], dtype=torch.float),\n",
    "        }\n",
    "        \n",
    "        return data"
   ]
  },
  {
   "cell_type": "code",
   "execution_count": 20,
   "id": "85e8ddac",
   "metadata": {
    "_kg_hide-input": false,
    "_kg_hide-output": true,
    "execution": {
     "iopub.execute_input": "2021-11-03T16:17:40.924057Z",
     "iopub.status.busy": "2021-11-03T16:17:40.922111Z",
     "iopub.status.idle": "2021-11-03T16:17:41.022810Z",
     "shell.execute_reply": "2021-11-03T16:17:41.023281Z",
     "shell.execute_reply.started": "2021-11-03T11:15:54.543719Z"
    },
    "papermill": {
     "duration": 0.143247,
     "end_time": "2021-11-03T16:17:41.023433",
     "exception": false,
     "start_time": "2021-11-03T16:17:40.880186",
     "status": "completed"
    },
    "tags": []
   },
   "outputs": [
    {
     "data": {
      "text/plain": [
       "{'input': tensor([[20.0000, 50.0000,  0.0833,  0.0000],\n",
       "         [20.0000, 50.0000, 18.3830,  0.0000],\n",
       "         [20.0000, 50.0000, 22.5093,  0.0000],\n",
       "         [20.0000, 50.0000, 22.8088,  0.0000],\n",
       "         [20.0000, 50.0000, 25.3559,  0.0000],\n",
       "         [20.0000, 50.0000, 27.2599,  0.0000],\n",
       "         [20.0000, 50.0000, 27.1275,  0.0000],\n",
       "         [20.0000, 50.0000, 26.8077,  0.0000],\n",
       "         [20.0000, 50.0000, 27.8647,  0.0000],\n",
       "         [20.0000, 50.0000, 28.3130,  0.0000],\n",
       "         [20.0000, 50.0000, 26.8668,  0.0000],\n",
       "         [20.0000, 50.0000, 26.7628,  0.0000],\n",
       "         [20.0000, 50.0000, 27.9933,  0.0000],\n",
       "         [20.0000, 50.0000, 26.7899,  0.0000],\n",
       "         [20.0000, 50.0000, 25.6341,  0.0000],\n",
       "         [20.0000, 50.0000, 26.2802,  0.0000],\n",
       "         [20.0000, 50.0000, 24.7267,  0.0000],\n",
       "         [20.0000, 50.0000, 23.4679,  0.0000],\n",
       "         [20.0000, 50.0000, 23.8584,  0.0000],\n",
       "         [20.0000, 50.0000, 21.8834,  0.0000],\n",
       "         [20.0000, 50.0000, 20.7010,  0.0000],\n",
       "         [20.0000, 50.0000, 20.8436,  0.0000],\n",
       "         [20.0000, 50.0000, 20.2692,  0.0000],\n",
       "         [20.0000, 50.0000, 19.6937,  0.0000],\n",
       "         [20.0000, 50.0000, 18.9273,  0.0000],\n",
       "         [20.0000, 50.0000, 18.0938,  0.0000],\n",
       "         [20.0000, 50.0000, 17.1940,  0.0000],\n",
       "         [20.0000, 50.0000, 16.4193,  0.0000],\n",
       "         [20.0000, 50.0000, 15.7447,  0.0000],\n",
       "         [20.0000, 50.0000, 14.9316,  0.0000],\n",
       "         [20.0000, 50.0000,  0.0000,  1.0000],\n",
       "         [20.0000, 50.0000,  0.0000,  1.0000],\n",
       "         [20.0000, 50.0000,  0.0000,  1.0000],\n",
       "         [20.0000, 50.0000,  0.0000,  1.0000],\n",
       "         [20.0000, 50.0000,  0.0000,  1.0000],\n",
       "         [20.0000, 50.0000,  0.0000,  1.0000],\n",
       "         [20.0000, 50.0000,  0.0000,  1.0000],\n",
       "         [20.0000, 50.0000,  0.0000,  1.0000],\n",
       "         [20.0000, 50.0000,  0.0000,  1.0000],\n",
       "         [20.0000, 50.0000,  0.0000,  1.0000],\n",
       "         [20.0000, 50.0000,  0.0000,  1.0000],\n",
       "         [20.0000, 50.0000,  0.0000,  1.0000],\n",
       "         [20.0000, 50.0000,  0.0000,  1.0000],\n",
       "         [20.0000, 50.0000,  0.0000,  1.0000],\n",
       "         [20.0000, 50.0000,  0.0000,  1.0000],\n",
       "         [20.0000, 50.0000,  0.7792,  1.0000],\n",
       "         [20.0000, 50.0000,  1.4390,  1.0000],\n",
       "         [20.0000, 50.0000,  1.9942,  1.0000],\n",
       "         [20.0000, 50.0000,  2.4672,  1.0000],\n",
       "         [20.0000, 50.0000,  2.8634,  1.0000],\n",
       "         [20.0000, 50.0000,  3.1978,  1.0000],\n",
       "         [20.0000, 50.0000,  3.4784,  1.0000],\n",
       "         [20.0000, 50.0000,  3.7164,  1.0000],\n",
       "         [20.0000, 50.0000,  3.9168,  1.0000],\n",
       "         [20.0000, 50.0000,  4.0863,  1.0000],\n",
       "         [20.0000, 50.0000,  4.2287,  1.0000],\n",
       "         [20.0000, 50.0000,  4.3494,  1.0000],\n",
       "         [20.0000, 50.0000,  4.4512,  1.0000],\n",
       "         [20.0000, 50.0000,  4.5370,  1.0000],\n",
       "         [20.0000, 50.0000,  4.6095,  1.0000],\n",
       "         [20.0000, 50.0000,  4.6708,  1.0000],\n",
       "         [20.0000, 50.0000,  4.7227,  1.0000],\n",
       "         [20.0000, 50.0000,  4.7661,  1.0000],\n",
       "         [20.0000, 50.0000,  4.8029,  1.0000],\n",
       "         [20.0000, 50.0000,  4.8337,  1.0000],\n",
       "         [20.0000, 50.0000,  4.8598,  1.0000],\n",
       "         [20.0000, 50.0000,  4.8818,  1.0000],\n",
       "         [20.0000, 50.0000,  4.9004,  1.0000],\n",
       "         [20.0000, 50.0000,  4.9160,  1.0000],\n",
       "         [20.0000, 50.0000,  4.9292,  1.0000],\n",
       "         [20.0000, 50.0000,  4.9402,  1.0000],\n",
       "         [20.0000, 50.0000,  4.9496,  1.0000],\n",
       "         [20.0000, 50.0000,  4.9575,  1.0000],\n",
       "         [20.0000, 50.0000,  4.9641,  1.0000],\n",
       "         [20.0000, 50.0000,  4.9697,  1.0000],\n",
       "         [20.0000, 50.0000,  4.9745,  1.0000],\n",
       "         [20.0000, 50.0000,  4.9785,  1.0000],\n",
       "         [20.0000, 50.0000,  4.9818,  1.0000],\n",
       "         [20.0000, 50.0000,  4.9847,  1.0000],\n",
       "         [20.0000, 50.0000,  4.9871,  1.0000]]),\n",
       " 'u_out': tensor([0., 0., 0., 0., 0., 0., 0., 0., 0., 0., 0., 0., 0., 0., 0., 0., 0., 0.,\n",
       "         0., 0., 0., 0., 0., 0., 0., 0., 0., 0., 0., 0., 1., 1., 1., 1., 1., 1.,\n",
       "         1., 1., 1., 1., 1., 1., 1., 1., 1., 1., 1., 1., 1., 1., 1., 1., 1., 1.,\n",
       "         1., 1., 1., 1., 1., 1., 1., 1., 1., 1., 1., 1., 1., 1., 1., 1., 1., 1.,\n",
       "         1., 1., 1., 1., 1., 1., 1., 1.]),\n",
       " 'p': tensor([ 5.8375,  5.9078,  7.8763, 11.7429, 12.2350, 12.8677, 14.6956, 15.8907,\n",
       "         15.5392, 15.7501, 17.2967, 17.2264, 16.1719, 17.3670, 18.0701, 17.1561,\n",
       "         18.2810, 18.7731, 17.8592, 19.1246, 19.3355, 18.4919, 18.5622, 18.6325,\n",
       "         18.8434, 19.0543, 19.2652, 19.3355, 19.3355, 19.4761, 19.5464, 17.0155,\n",
       "          9.5635,  7.8763,  8.6496,  7.5950,  7.6653,  8.2981,  7.2435,  7.9466,\n",
       "          7.5950,  7.4544,  8.1575,  6.8217,  7.1732,  7.5247,  6.9623,  7.4544,\n",
       "          7.5950,  7.1732,  7.7356,  7.2435,  7.5950,  7.3841,  7.2435,  7.7356,\n",
       "          7.5247,  6.9623,  7.1029,  7.3138,  6.1187,  7.0326,  6.8217,  6.5405,\n",
       "          6.9623,  6.8217,  6.5405,  6.8217,  6.8217,  6.3999,  6.7514,  6.5405,\n",
       "          6.3999,  6.7514,  6.4702,  6.3999,  6.6108,  6.3296,  6.5405,  6.4702])}"
      ]
     },
     "execution_count": 20,
     "metadata": {},
     "output_type": "execute_result"
    }
   ],
   "source": [
    "dataset = VentilatorDataset(df)\n",
    "dataset[0]"
   ]
  },
  {
   "cell_type": "markdown",
   "id": "4be558bd",
   "metadata": {
    "papermill": {
     "duration": 0.035937,
     "end_time": "2021-11-03T16:17:41.095889",
     "exception": false,
     "start_time": "2021-11-03T16:17:41.059952",
     "status": "completed"
    },
    "tags": []
   },
   "source": [
    "## Model\n",
    "- 2 Layer MLP\n",
    "- Bidirectional LSTM\n",
    "- Prediction dense layer"
   ]
  },
  {
   "cell_type": "code",
   "execution_count": 21,
   "id": "63d4bb96",
   "metadata": {
    "_kg_hide-input": true,
    "execution": {
     "iopub.execute_input": "2021-11-03T16:17:41.177484Z",
     "iopub.status.busy": "2021-11-03T16:17:41.176468Z",
     "iopub.status.idle": "2021-11-03T16:17:41.178293Z",
     "shell.execute_reply": "2021-11-03T16:17:41.178849Z",
     "shell.execute_reply.started": "2021-11-03T11:15:54.648917Z"
    },
    "papermill": {
     "duration": 0.047155,
     "end_time": "2021-11-03T16:17:41.178982",
     "exception": false,
     "start_time": "2021-11-03T16:17:41.131827",
     "status": "completed"
    },
    "tags": []
   },
   "outputs": [],
   "source": [
    "import torch\n",
    "import torch.nn as nn\n",
    "\n",
    "\n",
    "class RNNModel(nn.Module):\n",
    "    def __init__(\n",
    "        self,\n",
    "        input_dim=4,\n",
    "        lstm_dim=256,\n",
    "        dense_dim=256,\n",
    "        logit_dim=256,\n",
    "        num_classes=1,\n",
    "    ):\n",
    "        super().__init__()\n",
    "\n",
    "        self.mlp = nn.Sequential(\n",
    "            nn.Linear(input_dim, dense_dim // 2),\n",
    "            nn.ReLU(),\n",
    "            nn.Linear(dense_dim // 2, dense_dim),\n",
    "            nn.ReLU(),\n",
    "        )\n",
    "\n",
    "        self.lstm = nn.LSTM(dense_dim, lstm_dim, batch_first=True, bidirectional=True)\n",
    "\n",
    "        self.logits = nn.Sequential(\n",
    "            nn.Linear(lstm_dim * 2, logit_dim),\n",
    "            nn.ReLU(),\n",
    "            nn.Linear(logit_dim, num_classes),\n",
    "        )\n",
    "\n",
    "    def forward(self, x):\n",
    "        features = self.mlp(x)\n",
    "        features, _ = self.lstm(features)\n",
    "        pred = self.logits(features)\n",
    "        return pred"
   ]
  },
  {
   "cell_type": "markdown",
   "id": "07ae9ec2",
   "metadata": {
    "papermill": {
     "duration": 0.034966,
     "end_time": "2021-11-03T16:17:41.249147",
     "exception": false,
     "start_time": "2021-11-03T16:17:41.214181",
     "status": "completed"
    },
    "tags": []
   },
   "source": [
    "## Training"
   ]
  },
  {
   "cell_type": "markdown",
   "id": "e488bec0",
   "metadata": {
    "papermill": {
     "duration": 0.03483,
     "end_time": "2021-11-03T16:17:41.319765",
     "exception": false,
     "start_time": "2021-11-03T16:17:41.284935",
     "status": "completed"
    },
    "tags": []
   },
   "source": [
    "### Utils"
   ]
  },
  {
   "cell_type": "code",
   "execution_count": 22,
   "id": "43adc50c",
   "metadata": {
    "_kg_hide-input": true,
    "execution": {
     "iopub.execute_input": "2021-11-03T16:17:41.399617Z",
     "iopub.status.busy": "2021-11-03T16:17:41.398911Z",
     "iopub.status.idle": "2021-11-03T16:17:41.401525Z",
     "shell.execute_reply": "2021-11-03T16:17:41.401090Z",
     "shell.execute_reply.started": "2021-11-03T11:15:54.659484Z"
    },
    "papermill": {
     "duration": 0.046732,
     "end_time": "2021-11-03T16:17:41.401631",
     "exception": false,
     "start_time": "2021-11-03T16:17:41.354899",
     "status": "completed"
    },
    "tags": []
   },
   "outputs": [],
   "source": [
    "import os\n",
    "import torch\n",
    "import random\n",
    "import numpy as np\n",
    "\n",
    "\n",
    "def seed_everything(seed):\n",
    "    \"\"\"\n",
    "    Seeds basic parameters for reproductibility of results.\n",
    "\n",
    "    Args:\n",
    "        seed (int): Number of the seed.\n",
    "    \"\"\"\n",
    "    random.seed(seed)\n",
    "    os.environ[\"PYTHONHASHSEED\"] = str(seed)\n",
    "    np.random.seed(seed)\n",
    "    torch.manual_seed(seed)\n",
    "    torch.cuda.manual_seed(seed)\n",
    "    torch.backends.cudnn.deterministic = True\n",
    "    torch.backends.cudnn.benchmark = False\n",
    "    \n",
    "    \n",
    "def count_parameters(model, all=False):\n",
    "    \"\"\"\n",
    "    Counts the parameters of a model.\n",
    "\n",
    "    Args:\n",
    "        model (torch model): Model to count the parameters of.\n",
    "        all (bool, optional):  Whether to count not trainable parameters. Defaults to False.\n",
    "\n",
    "    Returns:\n",
    "        int: Number of parameters.\n",
    "    \"\"\"\n",
    "    if all:\n",
    "        return sum(p.numel() for p in model.parameters())\n",
    "    else:\n",
    "        return sum(p.numel() for p in model.parameters() if p.requires_grad)\n",
    "\n",
    "    \n",
    "def worker_init_fn(worker_id):\n",
    "    \"\"\"\n",
    "    Handles PyTorch x Numpy seeding issues.\n",
    "\n",
    "    Args:\n",
    "        worker_id (int): Id of the worker.\n",
    "    \"\"\"\n",
    "    np.random.seed(np.random.get_state()[1][0] + worker_id)\n",
    "    \n",
    "\n",
    "def save_model_weights(model, filename, verbose=1, cp_folder=\"\"):\n",
    "    \"\"\"\n",
    "    Saves the weights of a PyTorch model.\n",
    "\n",
    "    Args:\n",
    "        model (torch model): Model to save the weights of.\n",
    "        filename (str): Name of the checkpoint.\n",
    "        verbose (int, optional): Whether to display infos. Defaults to 1.\n",
    "        cp_folder (str, optional): Folder to save to. Defaults to \"\".\n",
    "    \"\"\"\n",
    "    if verbose:\n",
    "        print(f\"\\n -> Saving weights to {os.path.join(cp_folder, filename)}\\n\")\n",
    "    torch.save(model.state_dict(), os.path.join(cp_folder, filename))"
   ]
  },
  {
   "cell_type": "markdown",
   "id": "e5e1dca0",
   "metadata": {
    "papermill": {
     "duration": 0.03541,
     "end_time": "2021-11-03T16:17:41.472399",
     "exception": false,
     "start_time": "2021-11-03T16:17:41.436989",
     "status": "completed"
    },
    "tags": []
   },
   "source": [
    "### Metric & Loss"
   ]
  },
  {
   "cell_type": "code",
   "execution_count": 23,
   "id": "1c27ce4e",
   "metadata": {
    "_kg_hide-input": true,
    "execution": {
     "iopub.execute_input": "2021-11-03T16:17:41.549616Z",
     "iopub.status.busy": "2021-11-03T16:17:41.548931Z",
     "iopub.status.idle": "2021-11-03T16:17:41.551504Z",
     "shell.execute_reply": "2021-11-03T16:17:41.551099Z",
     "shell.execute_reply.started": "2021-11-03T11:15:54.674512Z"
    },
    "papermill": {
     "duration": 0.044103,
     "end_time": "2021-11-03T16:17:41.551611",
     "exception": false,
     "start_time": "2021-11-03T16:17:41.507508",
     "status": "completed"
    },
    "tags": []
   },
   "outputs": [],
   "source": [
    "def compute_metric(df, preds):\n",
    "    \"\"\"\n",
    "    Metric for the problem, as I understood it.\n",
    "    \"\"\"\n",
    "    \n",
    "    y = np.array(df['pressure'].values.tolist())\n",
    "    w = 1 - np.array(df['u_out'].values.tolist())\n",
    "    \n",
    "    assert y.shape == preds.shape and w.shape == y.shape, (y.shape, preds.shape, w.shape)\n",
    "    \n",
    "    mae = w * np.abs(y - preds)\n",
    "    mae = mae.sum() / w.sum()\n",
    "    \n",
    "    return mae\n",
    "\n",
    "\n",
    "class VentilatorLoss(nn.Module):\n",
    "    \"\"\"\n",
    "    Directly optimizes the competition metric\n",
    "    \"\"\"\n",
    "    def __call__(self, preds, y, u_out):\n",
    "        w = 1 - u_out\n",
    "        mae = w * (y - preds).abs()\n",
    "        mae = mae.sum(-1) / w.sum(-1)\n",
    "\n",
    "        return mae"
   ]
  },
  {
   "cell_type": "markdown",
   "id": "e09d4b22",
   "metadata": {
    "papermill": {
     "duration": 0.035134,
     "end_time": "2021-11-03T16:17:41.621879",
     "exception": false,
     "start_time": "2021-11-03T16:17:41.586745",
     "status": "completed"
    },
    "tags": []
   },
   "source": [
    "### Fit"
   ]
  },
  {
   "cell_type": "code",
   "execution_count": 24,
   "id": "f4ab7250",
   "metadata": {
    "_kg_hide-input": true,
    "_kg_hide-output": true,
    "execution": {
     "iopub.execute_input": "2021-11-03T16:17:41.709389Z",
     "iopub.status.busy": "2021-11-03T16:17:41.708789Z",
     "iopub.status.idle": "2021-11-03T16:17:46.140444Z",
     "shell.execute_reply": "2021-11-03T16:17:46.139999Z",
     "shell.execute_reply.started": "2021-11-03T11:15:54.686636Z"
    },
    "papermill": {
     "duration": 4.483762,
     "end_time": "2021-11-03T16:17:46.140695",
     "exception": false,
     "start_time": "2021-11-03T16:17:41.656933",
     "status": "completed"
    },
    "tags": []
   },
   "outputs": [
    {
     "name": "stderr",
     "output_type": "stream",
     "text": [
      "2021-11-03 16:17:42.392505: I tensorflow/stream_executor/platform/default/dso_loader.cc:49] Successfully opened dynamic library libcudart.so.11.0\n"
     ]
    }
   ],
   "source": [
    "import gc\n",
    "import time\n",
    "import torch\n",
    "import numpy as np\n",
    "from torch.utils.data import DataLoader\n",
    "from transformers import get_linear_schedule_with_warmup\n",
    "\n",
    "\n",
    "def fit(\n",
    "    model,\n",
    "    train_dataset,\n",
    "    val_dataset,\n",
    "    loss_name=\"L1Loss\",\n",
    "    optimizer=\"Adam\",\n",
    "    epochs=50,\n",
    "    batch_size=32,\n",
    "    val_bs=32,\n",
    "    warmup_prop=0.1,\n",
    "    lr=1e-3,\n",
    "    num_classes=1,\n",
    "    verbose=1,\n",
    "    first_epoch_eval=0,\n",
    "    device=\"cuda\"\n",
    "):\n",
    "    avg_val_loss = 0.\n",
    "\n",
    "    # Optimizer\n",
    "    optimizer = getattr(torch.optim, optimizer)(model.parameters(), lr=lr)\n",
    "\n",
    "    # Data loaders\n",
    "    train_loader = DataLoader(\n",
    "        train_dataset,\n",
    "        batch_size=batch_size,\n",
    "        shuffle=True,\n",
    "        drop_last=True,\n",
    "        num_workers=NUM_WORKERS,\n",
    "        pin_memory=True,\n",
    "        worker_init_fn=worker_init_fn\n",
    "    )\n",
    "\n",
    "    val_loader = DataLoader(\n",
    "        val_dataset,\n",
    "        batch_size=val_bs,\n",
    "        shuffle=False,\n",
    "        num_workers=NUM_WORKERS,\n",
    "        pin_memory=True,\n",
    "    )\n",
    "\n",
    "    # Loss\n",
    "#     loss_fct = getattr(torch.nn, loss_name)(reduction=\"none\")\n",
    "    loss_fct = VentilatorLoss()\n",
    "\n",
    "    # Scheduler\n",
    "    num_warmup_steps = int(warmup_prop * epochs * len(train_loader))\n",
    "    num_training_steps = int(epochs * len(train_loader))\n",
    "    scheduler = get_linear_schedule_with_warmup(\n",
    "        optimizer, num_warmup_steps, num_training_steps\n",
    "    )\n",
    "\n",
    "    for epoch in range(epochs):\n",
    "        model.train()\n",
    "        model.zero_grad()\n",
    "        start_time = time.time()\n",
    "\n",
    "        avg_loss = 0\n",
    "        for data in train_loader:\n",
    "            pred = model(data['input'].to(device)).squeeze(-1)\n",
    "\n",
    "            loss = loss_fct(\n",
    "                pred,\n",
    "                data['p'].to(device),\n",
    "                data['u_out'].to(device),\n",
    "            ).mean()\n",
    "            loss.backward()\n",
    "            avg_loss += loss.item() / len(train_loader)\n",
    "\n",
    "            optimizer.step()\n",
    "            scheduler.step()\n",
    "\n",
    "            for param in model.parameters():\n",
    "                param.grad = None\n",
    "\n",
    "        model.eval()\n",
    "        mae, avg_val_loss = 0, 0\n",
    "        preds = []\n",
    "\n",
    "        with torch.no_grad():\n",
    "            for data in val_loader:\n",
    "                pred = model(data['input'].to(device)).squeeze(-1)\n",
    "\n",
    "                loss = loss_fct(\n",
    "                    pred.detach(), \n",
    "                    data['p'].to(device),\n",
    "                    data['u_out'].to(device),\n",
    "                ).mean()\n",
    "                avg_val_loss += loss.item() / len(val_loader)\n",
    "\n",
    "                preds.append(pred.detach().cpu().numpy())\n",
    "        \n",
    "        preds = np.concatenate(preds, 0)\n",
    "        mae = compute_metric(val_dataset.df, preds)\n",
    "\n",
    "        elapsed_time = time.time() - start_time\n",
    "        if (epoch + 1) % verbose == 0:\n",
    "            elapsed_time = elapsed_time * verbose\n",
    "            lr = scheduler.get_last_lr()[0]\n",
    "            print(\n",
    "                f\"Epoch {epoch + 1:02d}/{epochs:02d} \\t lr={lr:.1e}\\t t={elapsed_time:.0f}s \\t\"\n",
    "                f\"loss={avg_loss:.3f}\",\n",
    "                end=\"\\t\",\n",
    "            )\n",
    "\n",
    "            if (epoch + 1 >= first_epoch_eval) or (epoch + 1 == epochs):\n",
    "                print(f\"val_loss={avg_val_loss:.3f}\\tmae={mae:.3f}\")\n",
    "            else:\n",
    "                print(\"\")\n",
    "\n",
    "    del (val_loader, train_loader, loss, data, pred)\n",
    "    gc.collect()\n",
    "    torch.cuda.empty_cache()\n",
    "\n",
    "    return preds\n"
   ]
  },
  {
   "cell_type": "markdown",
   "id": "a05c13fd",
   "metadata": {
    "papermill": {
     "duration": 0.036196,
     "end_time": "2021-11-03T16:17:46.213623",
     "exception": false,
     "start_time": "2021-11-03T16:17:46.177427",
     "status": "completed"
    },
    "tags": []
   },
   "source": [
    "### Predict"
   ]
  },
  {
   "cell_type": "code",
   "execution_count": 25,
   "id": "0ad39d64",
   "metadata": {
    "_kg_hide-input": true,
    "execution": {
     "iopub.execute_input": "2021-11-03T16:17:46.287207Z",
     "iopub.status.busy": "2021-11-03T16:17:46.286385Z",
     "iopub.status.idle": "2021-11-03T16:17:46.292675Z",
     "shell.execute_reply": "2021-11-03T16:17:46.293039Z",
     "shell.execute_reply.started": "2021-11-03T11:15:59.018351Z"
    },
    "papermill": {
     "duration": 0.044263,
     "end_time": "2021-11-03T16:17:46.293159",
     "exception": false,
     "start_time": "2021-11-03T16:17:46.248896",
     "status": "completed"
    },
    "tags": []
   },
   "outputs": [],
   "source": [
    "def predict(\n",
    "    model,\n",
    "    dataset,\n",
    "    batch_size=64,\n",
    "    device=\"cuda\"\n",
    "):\n",
    "    \"\"\"\n",
    "    Usual torch predict function. Supports sigmoid and softmax activations.\n",
    "    Args:\n",
    "        model (torch model): Model to predict with.\n",
    "        dataset (PathologyDataset): Dataset to predict on.\n",
    "        batch_size (int, optional): Batch size. Defaults to 64.\n",
    "        device (str, optional): Device for torch. Defaults to \"cuda\".\n",
    "\n",
    "    Returns:\n",
    "        numpy array [len(dataset) x num_classes]: Predictions.\n",
    "    \"\"\"\n",
    "    model.eval()\n",
    "\n",
    "    loader = DataLoader(\n",
    "        dataset, batch_size=batch_size, shuffle=False, num_workers=NUM_WORKERS\n",
    "    )\n",
    "    \n",
    "    preds = []\n",
    "    with torch.no_grad():\n",
    "        for data in loader:\n",
    "            pred = model(data['input'].to(device)).squeeze(-1)\n",
    "            preds.append(pred.detach().cpu().numpy())\n",
    "\n",
    "    preds = np.concatenate(preds, 0)\n",
    "    return preds"
   ]
  },
  {
   "cell_type": "markdown",
   "id": "c0b32716",
   "metadata": {
    "papermill": {
     "duration": 0.036111,
     "end_time": "2021-11-03T16:17:46.365918",
     "exception": false,
     "start_time": "2021-11-03T16:17:46.329807",
     "status": "completed"
    },
    "tags": []
   },
   "source": [
    "## Train"
   ]
  },
  {
   "cell_type": "code",
   "execution_count": 26,
   "id": "ae3973c7",
   "metadata": {
    "_kg_hide-input": true,
    "execution": {
     "iopub.execute_input": "2021-11-03T16:17:46.447630Z",
     "iopub.status.busy": "2021-11-03T16:17:46.446958Z",
     "iopub.status.idle": "2021-11-03T16:17:46.449589Z",
     "shell.execute_reply": "2021-11-03T16:17:46.449163Z",
     "shell.execute_reply.started": "2021-11-03T11:15:59.028003Z"
    },
    "papermill": {
     "duration": 0.047804,
     "end_time": "2021-11-03T16:17:46.449695",
     "exception": false,
     "start_time": "2021-11-03T16:17:46.401891",
     "status": "completed"
    },
    "tags": []
   },
   "outputs": [],
   "source": [
    "def train(config, df_train, df_val, df_test, fold):\n",
    "    \"\"\"\n",
    "    Trains and validate a model.\n",
    "\n",
    "    Args:\n",
    "        config (Config): Parameters.\n",
    "        df_train (pandas dataframe): Training metadata.\n",
    "        df_val (pandas dataframe): Validation metadata.\n",
    "        df_test (pandas dataframe): Test metadata.\n",
    "        fold (int): Selected fold.\n",
    "\n",
    "    Returns:\n",
    "        np array: Study validation predictions.\n",
    "    \"\"\"\n",
    "\n",
    "    seed_everything(config.seed)\n",
    "\n",
    "    model = RNNModel(\n",
    "        input_dim=config.input_dim,\n",
    "        lstm_dim=config.lstm_dim,\n",
    "        dense_dim=config.dense_dim,\n",
    "        logit_dim=config.logit_dim,\n",
    "        num_classes=config.num_classes,\n",
    "    ).to(config.device)\n",
    "    model.zero_grad()\n",
    "\n",
    "    train_dataset = VentilatorDataset(df_train)\n",
    "    val_dataset = VentilatorDataset(df_val)\n",
    "    test_dataset = VentilatorDataset(df_test)\n",
    "\n",
    "    n_parameters = count_parameters(model)\n",
    "\n",
    "    print(f\"    -> {len(train_dataset)} training breathes\")\n",
    "    print(f\"    -> {len(val_dataset)} validation breathes\")\n",
    "    print(f\"    -> {n_parameters} trainable parameters\\n\")\n",
    "\n",
    "    pred_val = fit(\n",
    "        model,\n",
    "        train_dataset,\n",
    "        val_dataset,\n",
    "        loss_name=config.loss,\n",
    "        optimizer=config.optimizer,\n",
    "        epochs=config.epochs,\n",
    "        batch_size=config.batch_size,\n",
    "        val_bs=config.val_bs,\n",
    "        lr=config.lr,\n",
    "        warmup_prop=config.warmup_prop,\n",
    "        verbose=config.verbose,\n",
    "        first_epoch_eval=config.first_epoch_eval,\n",
    "        device=config.device,\n",
    "    )\n",
    "    \n",
    "    pred_test = predict(\n",
    "        model, \n",
    "        test_dataset, \n",
    "        batch_size=config.val_bs, \n",
    "        device=config.device\n",
    "    )\n",
    "\n",
    "    if config.save_weights:\n",
    "        save_model_weights(\n",
    "            model,\n",
    "            f\"{config.selected_model}_{fold}.pt\",\n",
    "            cp_folder=\"\",\n",
    "        )\n",
    "\n",
    "    del (model, train_dataset, val_dataset, test_dataset)\n",
    "    gc.collect()\n",
    "    torch.cuda.empty_cache()\n",
    "\n",
    "    return pred_val, pred_test"
   ]
  },
  {
   "cell_type": "markdown",
   "id": "6d9692a9",
   "metadata": {
    "papermill": {
     "duration": 0.036615,
     "end_time": "2021-11-03T16:17:46.522940",
     "exception": false,
     "start_time": "2021-11-03T16:17:46.486325",
     "status": "completed"
    },
    "tags": []
   },
   "source": [
    "### $k$-fold"
   ]
  },
  {
   "cell_type": "code",
   "execution_count": 27,
   "id": "5e2fb9cf",
   "metadata": {
    "_kg_hide-input": true,
    "execution": {
     "iopub.execute_input": "2021-11-03T16:17:46.602945Z",
     "iopub.status.busy": "2021-11-03T16:17:46.602167Z",
     "iopub.status.idle": "2021-11-03T16:17:46.726214Z",
     "shell.execute_reply": "2021-11-03T16:17:46.725780Z",
     "shell.execute_reply.started": "2021-11-03T11:15:59.044446Z"
    },
    "papermill": {
     "duration": 0.167478,
     "end_time": "2021-11-03T16:17:46.726318",
     "exception": false,
     "start_time": "2021-11-03T16:17:46.558840",
     "status": "completed"
    },
    "tags": []
   },
   "outputs": [],
   "source": [
    "from sklearn.model_selection import GroupKFold\n",
    "\n",
    "def k_fold(config, df, df_test):\n",
    "    \"\"\"\n",
    "    Performs a patient grouped k-fold cross validation.\n",
    "    \"\"\"\n",
    "\n",
    "    pred_oof = np.zeros(len(df))\n",
    "    preds_test = []\n",
    "    \n",
    "    gkf = GroupKFold(n_splits=config.k)\n",
    "    splits = list(gkf.split(X=df, y=df, groups=df[\"breath_id\"]))\n",
    "\n",
    "    for i, (train_idx, val_idx) in enumerate(splits):\n",
    "        if i in config.selected_folds:\n",
    "            print(f\"\\n-------------   Fold {i + 1} / {config.k}  -------------\\n\")\n",
    "\n",
    "            df_train = df.iloc[train_idx].copy().reset_index(drop=True)\n",
    "            df_val = df.iloc[val_idx].copy().reset_index(drop=True)\n",
    "\n",
    "            pred_val, pred_test = train(config, df_train, df_val, df_test, i)\n",
    "            \n",
    "            pred_oof[val_idx] = pred_val.flatten()\n",
    "            preds_test.append(pred_test.flatten())\n",
    "\n",
    "    print(f'\\n -> CV MAE : {compute_metric(df, pred_oof) :.3f}')\n",
    "\n",
    "    return pred_oof, np.mean(preds_test, 0)"
   ]
  },
  {
   "cell_type": "markdown",
   "id": "b708373a",
   "metadata": {
    "papermill": {
     "duration": 0.03548,
     "end_time": "2021-11-03T16:17:46.797975",
     "exception": false,
     "start_time": "2021-11-03T16:17:46.762495",
     "status": "completed"
    },
    "tags": []
   },
   "source": [
    "## Main"
   ]
  },
  {
   "cell_type": "code",
   "execution_count": 28,
   "id": "5453de21",
   "metadata": {
    "execution": {
     "iopub.execute_input": "2021-11-03T16:17:46.927072Z",
     "iopub.status.busy": "2021-11-03T16:17:46.926536Z",
     "iopub.status.idle": "2021-11-03T16:17:46.930310Z",
     "shell.execute_reply": "2021-11-03T16:17:46.929923Z",
     "shell.execute_reply.started": "2021-11-03T11:15:59.187029Z"
    },
    "papermill": {
     "duration": 0.09555,
     "end_time": "2021-11-03T16:17:46.930418",
     "exception": false,
     "start_time": "2021-11-03T16:17:46.834868",
     "status": "completed"
    },
    "tags": []
   },
   "outputs": [],
   "source": [
    "class Config:\n",
    "    \"\"\"\n",
    "    Parameters used for training\n",
    "    \"\"\"\n",
    "    # General\n",
    "    seed = 42\n",
    "    verbose = 1\n",
    "    device = \"cuda\" if torch.cuda.is_available() else \"cpu\"\n",
    "    save_weights = True\n",
    "\n",
    "    # k-fold\n",
    "    k = 5\n",
    "    selected_folds = [0, 1, 2, 3, 4]\n",
    "\n",
    "    # Model\n",
    "    selected_model = 'rnn'\n",
    "    input_dim = 4\n",
    "\n",
    "    dense_dim = 128\n",
    "    lstm_dim = 128\n",
    "    logit_dim = 128\n",
    "    num_classes = 1\n",
    "\n",
    "    # Training\n",
    "    loss = \"L1Loss\"  # not used\n",
    "    optimizer = \"Adam\"\n",
    "    batch_size = 128\n",
    "    epochs = 200\n",
    "\n",
    "    lr = 1e-3\n",
    "    warmup_prop = 0\n",
    "\n",
    "    val_bs = 256\n",
    "    first_epoch_eval = 0"
   ]
  },
  {
   "cell_type": "code",
   "execution_count": null,
   "id": "7f42c013",
   "metadata": {
    "execution": {
     "iopub.execute_input": "2021-11-03T11:15:59.244035Z",
     "iopub.status.busy": "2021-11-03T11:15:59.243695Z",
     "iopub.status.idle": "2021-11-03T13:52:15.129331Z",
     "shell.execute_reply": "2021-11-03T13:52:15.128466Z",
     "shell.execute_reply.started": "2021-11-03T11:15:59.244005Z"
    },
    "papermill": {
     "duration": null,
     "end_time": null,
     "exception": false,
     "start_time": "2021-11-03T16:17:46.966164",
     "status": "running"
    },
    "tags": []
   },
   "outputs": [],
   "source": [
    "pred_oof, pred_test = k_fold(\n",
    "    Config, \n",
    "    df_train,\n",
    "    df_test,\n",
    ")"
   ]
  },
  {
   "cell_type": "markdown",
   "id": "cc74e581",
   "metadata": {
    "papermill": {
     "duration": null,
     "end_time": null,
     "exception": null,
     "start_time": null,
     "status": "pending"
    },
    "tags": []
   },
   "source": [
    "### Predictions"
   ]
  },
  {
   "cell_type": "code",
   "execution_count": null,
   "id": "683c7889",
   "metadata": {
    "_kg_hide-input": true,
    "execution": {
     "iopub.execute_input": "2021-11-03T13:52:15.131373Z",
     "iopub.status.busy": "2021-11-03T13:52:15.130975Z",
     "iopub.status.idle": "2021-11-03T13:52:15.139087Z",
     "shell.execute_reply": "2021-11-03T13:52:15.138386Z",
     "shell.execute_reply.started": "2021-11-03T13:52:15.131332Z"
    },
    "papermill": {
     "duration": null,
     "end_time": null,
     "exception": null,
     "start_time": null,
     "status": "pending"
    },
    "tags": []
   },
   "outputs": [],
   "source": [
    "def plot_prediction(sample_id, df):\n",
    "    df_breath = df[df['breath_id'] == sample_id]\n",
    "\n",
    "    cols = ['u_in', 'u_out', 'pressure'] if 'pressure' in df.columns else ['u_in', 'u_out']\n",
    "    \n",
    "    plt.figure(figsize=(12, 4))\n",
    "    for col in ['pred', 'pressure', 'u_out']:\n",
    "        plt.plot(df_breath['time_step'], df_breath[col], label=col)\n",
    "        \n",
    "    metric = compute_metric(df_breath, df_breath['pred'])\n",
    "        \n",
    "    plt.legend()\n",
    "    plt.title(f'Sample {sample_id} - MAE={metric:.3f}')"
   ]
  },
  {
   "cell_type": "code",
   "execution_count": null,
   "id": "ba70e730",
   "metadata": {
    "execution": {
     "iopub.execute_input": "2021-11-03T13:52:15.145053Z",
     "iopub.status.busy": "2021-11-03T13:52:15.141160Z",
     "iopub.status.idle": "2021-11-03T13:52:15.191177Z",
     "shell.execute_reply": "2021-11-03T13:52:15.190439Z",
     "shell.execute_reply.started": "2021-11-03T13:52:15.145014Z"
    },
    "papermill": {
     "duration": null,
     "end_time": null,
     "exception": null,
     "start_time": null,
     "status": "pending"
    },
    "tags": []
   },
   "outputs": [],
   "source": [
    "df_train[\"pred\"] = pred_oof"
   ]
  },
  {
   "cell_type": "code",
   "execution_count": null,
   "id": "26f1ae1c",
   "metadata": {
    "execution": {
     "iopub.execute_input": "2021-11-03T13:52:15.197111Z",
     "iopub.status.busy": "2021-11-03T13:52:15.195271Z",
     "iopub.status.idle": "2021-11-03T13:52:16.617087Z",
     "shell.execute_reply": "2021-11-03T13:52:16.616304Z",
     "shell.execute_reply.started": "2021-11-03T13:52:15.197084Z"
    },
    "papermill": {
     "duration": null,
     "end_time": null,
     "exception": null,
     "start_time": null,
     "status": "pending"
    },
    "tags": []
   },
   "outputs": [],
   "source": [
    "for i in df_train['breath_id'].unique()[:5]:\n",
    "    plot_prediction(i, df_train)"
   ]
  },
  {
   "cell_type": "markdown",
   "id": "0f2b6068",
   "metadata": {
    "papermill": {
     "duration": null,
     "end_time": null,
     "exception": null,
     "start_time": null,
     "status": "pending"
    },
    "tags": []
   },
   "source": [
    "## Sub"
   ]
  },
  {
   "cell_type": "code",
   "execution_count": null,
   "id": "0a2fc1e8",
   "metadata": {
    "execution": {
     "iopub.execute_input": "2021-11-03T13:52:16.618704Z",
     "iopub.status.busy": "2021-11-03T13:52:16.618363Z",
     "iopub.status.idle": "2021-11-03T13:52:17.713429Z",
     "shell.execute_reply": "2021-11-03T13:52:17.712601Z",
     "shell.execute_reply.started": "2021-11-03T13:52:16.618669Z"
    },
    "papermill": {
     "duration": null,
     "end_time": null,
     "exception": null,
     "start_time": null,
     "status": "pending"
    },
    "tags": []
   },
   "outputs": [],
   "source": [
    "df_test['pred'] = pred_test\n",
    "\n",
    "for i in df_test['breath_id'].unique()[:5]:\n",
    "    plot_prediction(i, df_test)"
   ]
  },
  {
   "cell_type": "code",
   "execution_count": null,
   "id": "7962664c",
   "metadata": {
    "execution": {
     "iopub.execute_input": "2021-11-03T13:52:17.715204Z",
     "iopub.status.busy": "2021-11-03T13:52:17.714936Z",
     "iopub.status.idle": "2021-11-03T13:52:27.726852Z",
     "shell.execute_reply": "2021-11-03T13:52:27.726039Z",
     "shell.execute_reply.started": "2021-11-03T13:52:17.715169Z"
    },
    "papermill": {
     "duration": null,
     "end_time": null,
     "exception": null,
     "start_time": null,
     "status": "pending"
    },
    "tags": []
   },
   "outputs": [],
   "source": [
    "sub['pressure'] = pred_test\n",
    "sub.to_csv('submission.csv', index=False)"
   ]
  }
 ],
 "metadata": {
  "kernelspec": {
   "display_name": "Python 3",
   "language": "python",
   "name": "python3"
  },
  "language_info": {
   "codemirror_mode": {
    "name": "ipython",
    "version": 3
   },
   "file_extension": ".py",
   "mimetype": "text/x-python",
   "name": "python",
   "nbconvert_exporter": "python",
   "pygments_lexer": "ipython3",
   "version": "3.8.8"
  },
  "papermill": {
   "default_parameters": {},
   "duration": null,
   "end_time": null,
   "environment_variables": {},
   "exception": null,
   "input_path": "__notebook__.ipynb",
   "output_path": "__notebook__.ipynb",
   "parameters": {},
   "start_time": "2021-11-03T16:16:19.997672",
   "version": "2.3.3"
  }
 },
 "nbformat": 4,
 "nbformat_minor": 5
}
